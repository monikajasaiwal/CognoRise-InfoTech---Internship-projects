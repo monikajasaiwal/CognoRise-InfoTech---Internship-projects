{
 "cells": [
  {
   "cell_type": "markdown",
   "id": "93c1a133",
   "metadata": {},
   "source": [
    "# The Analysis of Tour and Travel Compnay.\n",
    "A tour & travels company wants to predict whether a customer will churn or not. Based on a few customer characteristics \n",
    "like their age, frequent flyer status, annual income class, services opted, account snick to social media, booked hotel or not,\n",
    "Target.\n",
    "\n",
    "The analysis and forecasting are based on the customer churn's impact on yearly income, hotel reservations, and\n",
    "whether or not they were made in order to assist the business in developing predictive models, saving money, and\n",
    "performing fascinating EDAs."
   ]
  },
  {
   "cell_type": "markdown",
   "id": "b7643c7b",
   "metadata": {},
   "source": [
    "# Research Questions\n",
    "How Hotel Booking and Annual Income effect customer churn?\n",
    "How can we prevent customer churn?"
   ]
  },
  {
   "cell_type": "markdown",
   "id": "2ab4a36f",
   "metadata": {},
   "source": [
    "# Importing Libraries\n"
   ]
  },
  {
   "cell_type": "markdown",
   "id": "1c6a0a53",
   "metadata": {},
   "source": [
    "import pandas as pd\n",
    "import matplotlib.pyplot as plt\n",
    "import seaborn as sns"
   ]
  },
  {
   "cell_type": "markdown",
   "id": "2b1916ee",
   "metadata": {},
   "source": [
    "# import dataset"
   ]
  },
  {
   "cell_type": "code",
   "execution_count": 2,
   "id": "0064bd6b",
   "metadata": {},
   "outputs": [],
   "source": [
    "df = pd.read_csv(\"C:/Users/prash/Downloads/archive (3)/Customertravel.csv\")"
   ]
  },
  {
   "cell_type": "code",
   "execution_count": 3,
   "id": "ea254f9f",
   "metadata": {},
   "outputs": [
    {
     "data": {
      "text/html": [
       "<div>\n",
       "<style scoped>\n",
       "    .dataframe tbody tr th:only-of-type {\n",
       "        vertical-align: middle;\n",
       "    }\n",
       "\n",
       "    .dataframe tbody tr th {\n",
       "        vertical-align: top;\n",
       "    }\n",
       "\n",
       "    .dataframe thead th {\n",
       "        text-align: right;\n",
       "    }\n",
       "</style>\n",
       "<table border=\"1\" class=\"dataframe\">\n",
       "  <thead>\n",
       "    <tr style=\"text-align: right;\">\n",
       "      <th></th>\n",
       "      <th>Age</th>\n",
       "      <th>FrequentFlyer</th>\n",
       "      <th>AnnualIncomeClass</th>\n",
       "      <th>ServicesOpted</th>\n",
       "      <th>AccountSyncedToSocialMedia</th>\n",
       "      <th>BookedHotelOrNot</th>\n",
       "      <th>Target</th>\n",
       "    </tr>\n",
       "  </thead>\n",
       "  <tbody>\n",
       "    <tr>\n",
       "      <th>0</th>\n",
       "      <td>34</td>\n",
       "      <td>No</td>\n",
       "      <td>Middle Income</td>\n",
       "      <td>6</td>\n",
       "      <td>No</td>\n",
       "      <td>Yes</td>\n",
       "      <td>0</td>\n",
       "    </tr>\n",
       "    <tr>\n",
       "      <th>1</th>\n",
       "      <td>34</td>\n",
       "      <td>Yes</td>\n",
       "      <td>Low Income</td>\n",
       "      <td>5</td>\n",
       "      <td>Yes</td>\n",
       "      <td>No</td>\n",
       "      <td>1</td>\n",
       "    </tr>\n",
       "    <tr>\n",
       "      <th>2</th>\n",
       "      <td>37</td>\n",
       "      <td>No</td>\n",
       "      <td>Middle Income</td>\n",
       "      <td>3</td>\n",
       "      <td>Yes</td>\n",
       "      <td>No</td>\n",
       "      <td>0</td>\n",
       "    </tr>\n",
       "    <tr>\n",
       "      <th>3</th>\n",
       "      <td>30</td>\n",
       "      <td>No</td>\n",
       "      <td>Middle Income</td>\n",
       "      <td>2</td>\n",
       "      <td>No</td>\n",
       "      <td>No</td>\n",
       "      <td>0</td>\n",
       "    </tr>\n",
       "    <tr>\n",
       "      <th>4</th>\n",
       "      <td>30</td>\n",
       "      <td>No</td>\n",
       "      <td>Low Income</td>\n",
       "      <td>1</td>\n",
       "      <td>No</td>\n",
       "      <td>No</td>\n",
       "      <td>0</td>\n",
       "    </tr>\n",
       "  </tbody>\n",
       "</table>\n",
       "</div>"
      ],
      "text/plain": [
       "   Age FrequentFlyer AnnualIncomeClass  ServicesOpted  \\\n",
       "0   34            No     Middle Income              6   \n",
       "1   34           Yes        Low Income              5   \n",
       "2   37            No     Middle Income              3   \n",
       "3   30            No     Middle Income              2   \n",
       "4   30            No        Low Income              1   \n",
       "\n",
       "  AccountSyncedToSocialMedia BookedHotelOrNot  Target  \n",
       "0                         No              Yes       0  \n",
       "1                        Yes               No       1  \n",
       "2                        Yes               No       0  \n",
       "3                         No               No       0  \n",
       "4                         No               No       0  "
      ]
     },
     "execution_count": 3,
     "metadata": {},
     "output_type": "execute_result"
    }
   ],
   "source": [
    "df.head()"
   ]
  },
  {
   "cell_type": "code",
   "execution_count": 4,
   "id": "a99a2e34",
   "metadata": {},
   "outputs": [
    {
     "data": {
      "text/html": [
       "<div>\n",
       "<style scoped>\n",
       "    .dataframe tbody tr th:only-of-type {\n",
       "        vertical-align: middle;\n",
       "    }\n",
       "\n",
       "    .dataframe tbody tr th {\n",
       "        vertical-align: top;\n",
       "    }\n",
       "\n",
       "    .dataframe thead th {\n",
       "        text-align: right;\n",
       "    }\n",
       "</style>\n",
       "<table border=\"1\" class=\"dataframe\">\n",
       "  <thead>\n",
       "    <tr style=\"text-align: right;\">\n",
       "      <th></th>\n",
       "      <th>Age</th>\n",
       "      <th>FrequentFlyer</th>\n",
       "      <th>AnnualIncomeClass</th>\n",
       "      <th>ServicesOpted</th>\n",
       "      <th>AccountSyncedToSocialMedia</th>\n",
       "      <th>BookedHotelOrNot</th>\n",
       "      <th>Target</th>\n",
       "    </tr>\n",
       "  </thead>\n",
       "  <tbody>\n",
       "    <tr>\n",
       "      <th>949</th>\n",
       "      <td>31</td>\n",
       "      <td>Yes</td>\n",
       "      <td>Low Income</td>\n",
       "      <td>1</td>\n",
       "      <td>No</td>\n",
       "      <td>No</td>\n",
       "      <td>0</td>\n",
       "    </tr>\n",
       "    <tr>\n",
       "      <th>950</th>\n",
       "      <td>30</td>\n",
       "      <td>No</td>\n",
       "      <td>Middle Income</td>\n",
       "      <td>5</td>\n",
       "      <td>No</td>\n",
       "      <td>Yes</td>\n",
       "      <td>0</td>\n",
       "    </tr>\n",
       "    <tr>\n",
       "      <th>951</th>\n",
       "      <td>37</td>\n",
       "      <td>No</td>\n",
       "      <td>Middle Income</td>\n",
       "      <td>4</td>\n",
       "      <td>No</td>\n",
       "      <td>No</td>\n",
       "      <td>0</td>\n",
       "    </tr>\n",
       "    <tr>\n",
       "      <th>952</th>\n",
       "      <td>30</td>\n",
       "      <td>No</td>\n",
       "      <td>Low Income</td>\n",
       "      <td>1</td>\n",
       "      <td>Yes</td>\n",
       "      <td>Yes</td>\n",
       "      <td>0</td>\n",
       "    </tr>\n",
       "    <tr>\n",
       "      <th>953</th>\n",
       "      <td>31</td>\n",
       "      <td>Yes</td>\n",
       "      <td>High Income</td>\n",
       "      <td>1</td>\n",
       "      <td>No</td>\n",
       "      <td>No</td>\n",
       "      <td>0</td>\n",
       "    </tr>\n",
       "  </tbody>\n",
       "</table>\n",
       "</div>"
      ],
      "text/plain": [
       "     Age FrequentFlyer AnnualIncomeClass  ServicesOpted  \\\n",
       "949   31           Yes        Low Income              1   \n",
       "950   30            No     Middle Income              5   \n",
       "951   37            No     Middle Income              4   \n",
       "952   30            No        Low Income              1   \n",
       "953   31           Yes       High Income              1   \n",
       "\n",
       "    AccountSyncedToSocialMedia BookedHotelOrNot  Target  \n",
       "949                         No               No       0  \n",
       "950                         No              Yes       0  \n",
       "951                         No               No       0  \n",
       "952                        Yes              Yes       0  \n",
       "953                         No               No       0  "
      ]
     },
     "execution_count": 4,
     "metadata": {},
     "output_type": "execute_result"
    }
   ],
   "source": [
    "df.tail()"
   ]
  },
  {
   "cell_type": "code",
   "execution_count": 5,
   "id": "0945beff",
   "metadata": {},
   "outputs": [
    {
     "name": "stdout",
     "output_type": "stream",
     "text": [
      "<class 'pandas.core.frame.DataFrame'>\n",
      "RangeIndex: 954 entries, 0 to 953\n",
      "Data columns (total 7 columns):\n",
      " #   Column                      Non-Null Count  Dtype \n",
      "---  ------                      --------------  ----- \n",
      " 0   Age                         954 non-null    int64 \n",
      " 1   FrequentFlyer               954 non-null    object\n",
      " 2   AnnualIncomeClass           954 non-null    object\n",
      " 3   ServicesOpted               954 non-null    int64 \n",
      " 4   AccountSyncedToSocialMedia  954 non-null    object\n",
      " 5   BookedHotelOrNot            954 non-null    object\n",
      " 6   Target                      954 non-null    int64 \n",
      "dtypes: int64(3), object(4)\n",
      "memory usage: 52.3+ KB\n"
     ]
    }
   ],
   "source": [
    "df.info()"
   ]
  },
  {
   "cell_type": "markdown",
   "id": "7ea5b886",
   "metadata": {},
   "source": [
    "# Statistical Summary"
   ]
  },
  {
   "cell_type": "code",
   "execution_count": 14,
   "id": "e3c1017a",
   "metadata": {},
   "outputs": [
    {
     "data": {
      "text/html": [
       "<div>\n",
       "<style scoped>\n",
       "    .dataframe tbody tr th:only-of-type {\n",
       "        vertical-align: middle;\n",
       "    }\n",
       "\n",
       "    .dataframe tbody tr th {\n",
       "        vertical-align: top;\n",
       "    }\n",
       "\n",
       "    .dataframe thead th {\n",
       "        text-align: right;\n",
       "    }\n",
       "</style>\n",
       "<table border=\"1\" class=\"dataframe\">\n",
       "  <thead>\n",
       "    <tr style=\"text-align: right;\">\n",
       "      <th></th>\n",
       "      <th>count</th>\n",
       "      <th>mean</th>\n",
       "      <th>std</th>\n",
       "      <th>min</th>\n",
       "      <th>25%</th>\n",
       "      <th>50%</th>\n",
       "      <th>75%</th>\n",
       "      <th>max</th>\n",
       "    </tr>\n",
       "  </thead>\n",
       "  <tbody>\n",
       "    <tr>\n",
       "      <th>Age</th>\n",
       "      <td>954.0</td>\n",
       "      <td>32.109015</td>\n",
       "      <td>3.337388</td>\n",
       "      <td>27.0</td>\n",
       "      <td>30.0</td>\n",
       "      <td>31.0</td>\n",
       "      <td>35.0</td>\n",
       "      <td>38.0</td>\n",
       "    </tr>\n",
       "    <tr>\n",
       "      <th>ServicesOpted</th>\n",
       "      <td>954.0</td>\n",
       "      <td>2.437107</td>\n",
       "      <td>1.606233</td>\n",
       "      <td>1.0</td>\n",
       "      <td>1.0</td>\n",
       "      <td>2.0</td>\n",
       "      <td>4.0</td>\n",
       "      <td>6.0</td>\n",
       "    </tr>\n",
       "    <tr>\n",
       "      <th>Target</th>\n",
       "      <td>954.0</td>\n",
       "      <td>0.234801</td>\n",
       "      <td>0.424097</td>\n",
       "      <td>0.0</td>\n",
       "      <td>0.0</td>\n",
       "      <td>0.0</td>\n",
       "      <td>0.0</td>\n",
       "      <td>1.0</td>\n",
       "    </tr>\n",
       "  </tbody>\n",
       "</table>\n",
       "</div>"
      ],
      "text/plain": [
       "               count       mean       std   min   25%   50%   75%   max\n",
       "Age            954.0  32.109015  3.337388  27.0  30.0  31.0  35.0  38.0\n",
       "ServicesOpted  954.0   2.437107  1.606233   1.0   1.0   2.0   4.0   6.0\n",
       "Target         954.0   0.234801  0.424097   0.0   0.0   0.0   0.0   1.0"
      ]
     },
     "execution_count": 14,
     "metadata": {},
     "output_type": "execute_result"
    }
   ],
   "source": [
    "df.describe().T"
   ]
  },
  {
   "cell_type": "code",
   "execution_count": 15,
   "id": "7f4d6856",
   "metadata": {},
   "outputs": [
    {
     "data": {
      "text/html": [
       "<div>\n",
       "<style scoped>\n",
       "    .dataframe tbody tr th:only-of-type {\n",
       "        vertical-align: middle;\n",
       "    }\n",
       "\n",
       "    .dataframe tbody tr th {\n",
       "        vertical-align: top;\n",
       "    }\n",
       "\n",
       "    .dataframe thead th {\n",
       "        text-align: right;\n",
       "    }\n",
       "</style>\n",
       "<table border=\"1\" class=\"dataframe\">\n",
       "  <thead>\n",
       "    <tr style=\"text-align: right;\">\n",
       "      <th></th>\n",
       "      <th>count</th>\n",
       "      <th>unique</th>\n",
       "      <th>top</th>\n",
       "      <th>freq</th>\n",
       "    </tr>\n",
       "  </thead>\n",
       "  <tbody>\n",
       "    <tr>\n",
       "      <th>FrequentFlyer</th>\n",
       "      <td>954</td>\n",
       "      <td>3</td>\n",
       "      <td>No</td>\n",
       "      <td>608</td>\n",
       "    </tr>\n",
       "    <tr>\n",
       "      <th>AnnualIncomeClass</th>\n",
       "      <td>954</td>\n",
       "      <td>3</td>\n",
       "      <td>Middle Income</td>\n",
       "      <td>409</td>\n",
       "    </tr>\n",
       "    <tr>\n",
       "      <th>AccountSyncedToSocialMedia</th>\n",
       "      <td>954</td>\n",
       "      <td>2</td>\n",
       "      <td>No</td>\n",
       "      <td>594</td>\n",
       "    </tr>\n",
       "    <tr>\n",
       "      <th>BookedHotelOrNot</th>\n",
       "      <td>954</td>\n",
       "      <td>2</td>\n",
       "      <td>No</td>\n",
       "      <td>576</td>\n",
       "    </tr>\n",
       "  </tbody>\n",
       "</table>\n",
       "</div>"
      ],
      "text/plain": [
       "                           count unique            top freq\n",
       "FrequentFlyer                954      3             No  608\n",
       "AnnualIncomeClass            954      3  Middle Income  409\n",
       "AccountSyncedToSocialMedia   954      2             No  594\n",
       "BookedHotelOrNot             954      2             No  576"
      ]
     },
     "execution_count": 15,
     "metadata": {},
     "output_type": "execute_result"
    }
   ],
   "source": [
    "df.describe(include= object).T"
   ]
  },
  {
   "cell_type": "code",
   "execution_count": 11,
   "id": "8d5bf805",
   "metadata": {},
   "outputs": [
    {
     "name": "stdout",
     "output_type": "stream",
     "text": [
      "507\n"
     ]
    }
   ],
   "source": [
    "df.isnull().values.any()                  # make sure you use correct brakets \n",
    "value =len(df[df.duplicated()])\n",
    "print(value)"
   ]
  },
  {
   "cell_type": "code",
   "execution_count": 26,
   "id": "3627ffa7",
   "metadata": {},
   "outputs": [
    {
     "name": "stdout",
     "output_type": "stream",
     "text": [
      "FrequentFlyer\n",
      "['No' 'Yes' 'No Record']\n",
      "----------------------------------------\n",
      "AnnualIncomeClass\n",
      "['Middle Income' 'Low Income' 'High Income']\n",
      "----------------------------------------\n",
      "AccountSyncedToSocialMedia\n",
      "['No' 'Yes']\n",
      "----------------------------------------\n",
      "BookedHotelOrNot\n",
      "['Yes' 'No']\n",
      "----------------------------------------\n"
     ]
    }
   ],
   "source": [
    "for col in df.describe(include = object).columns:\n",
    "        print(col)\n",
    "        print(df[col].unique())\n",
    "        print('-'*40)"
   ]
  },
  {
   "cell_type": "code",
   "execution_count": 27,
   "id": "a7cb1d6a",
   "metadata": {},
   "outputs": [
    {
     "name": "stderr",
     "output_type": "stream",
     "text": [
      "C:\\Users\\prash\\AppData\\Local\\Temp\\ipykernel_11476\\1134722465.py:1: FutureWarning: The default value of numeric_only in DataFrame.corr is deprecated. In a future version, it will default to False. Select only valid columns or specify the value of numeric_only to silence this warning.\n",
      "  df.corr()\n"
     ]
    },
    {
     "data": {
      "text/html": [
       "<div>\n",
       "<style scoped>\n",
       "    .dataframe tbody tr th:only-of-type {\n",
       "        vertical-align: middle;\n",
       "    }\n",
       "\n",
       "    .dataframe tbody tr th {\n",
       "        vertical-align: top;\n",
       "    }\n",
       "\n",
       "    .dataframe thead th {\n",
       "        text-align: right;\n",
       "    }\n",
       "</style>\n",
       "<table border=\"1\" class=\"dataframe\">\n",
       "  <thead>\n",
       "    <tr style=\"text-align: right;\">\n",
       "      <th></th>\n",
       "      <th>Age</th>\n",
       "      <th>ServicesOpted</th>\n",
       "      <th>Target</th>\n",
       "    </tr>\n",
       "  </thead>\n",
       "  <tbody>\n",
       "    <tr>\n",
       "      <th>Age</th>\n",
       "      <td>1.000000</td>\n",
       "      <td>-0.012422</td>\n",
       "      <td>-0.131534</td>\n",
       "    </tr>\n",
       "    <tr>\n",
       "      <th>ServicesOpted</th>\n",
       "      <td>-0.012422</td>\n",
       "      <td>1.000000</td>\n",
       "      <td>0.038646</td>\n",
       "    </tr>\n",
       "    <tr>\n",
       "      <th>Target</th>\n",
       "      <td>-0.131534</td>\n",
       "      <td>0.038646</td>\n",
       "      <td>1.000000</td>\n",
       "    </tr>\n",
       "  </tbody>\n",
       "</table>\n",
       "</div>"
      ],
      "text/plain": [
       "                    Age  ServicesOpted    Target\n",
       "Age            1.000000      -0.012422 -0.131534\n",
       "ServicesOpted -0.012422       1.000000  0.038646\n",
       "Target        -0.131534       0.038646  1.000000"
      ]
     },
     "execution_count": 27,
     "metadata": {},
     "output_type": "execute_result"
    }
   ],
   "source": [
    "df.corr()"
   ]
  },
  {
   "cell_type": "markdown",
   "id": "cb5b1518",
   "metadata": {},
   "source": [
    "# Data Visualization \n",
    "Here first creat a varible , store columns to convert them as a vaalue using pd.factorize function "
   ]
  },
  {
   "cell_type": "code",
   "execution_count": 38,
   "id": "85b6f203",
   "metadata": {},
   "outputs": [
    {
     "name": "stdout",
     "output_type": "stream",
     "text": [
      "                             0   1   2   3   4\n",
      "Age                         34  34  37  30  30\n",
      "FrequentFlyer                0   1   0   0   0\n",
      "AnnualIncomeClass            0   1   0   0   1\n",
      "ServicesOpted                0   1   2   3   4\n",
      "AccountSyncedToSocialMedia   0   1   1   0   0\n",
      "BookedHotelOrNot             0   1   1   1   1\n",
      "Target                       0   1   0   0   0\n"
     ]
    }
   ],
   "source": [
    "feature = ['FrequentFlyer','AnnualIncomeClass','ServicesOpted','AccountSyncedToSocialMedia','BookedHotelOrNot']\n",
    "for f in feature: \n",
    "        df[f] = pd.factorize(df[f])[0]\n",
    "print(df.head().T)"
   ]
  },
  {
   "cell_type": "code",
   "execution_count": 61,
   "id": "29d3f9f0",
   "metadata": {},
   "outputs": [
    {
     "name": "stdout",
     "output_type": "stream",
     "text": [
      "1    0.603774\n",
      "0    0.396226\n",
      "Name: BookedHotelOrNot, dtype: float64\n"
     ]
    },
    {
     "data": {
      "image/png": "[encoded data removed]",
      "text/plain": [
       "<Figure size 700x500 with 1 Axes>"
      ]
     },
     "metadata": {},
     "output_type": "display_data"
    }
   ],
   "source": [
    "churn_prediction = df['BookedHotelOrNot'].value_counts(normalize =1 )\n",
    "print(churn_prediction)\n",
    "\n",
    "\n",
    "plt.figure(figsize=(7,5))\n",
    "plt.bar(['Booked' , 'NotBooked'] , churn_prediction.values , color =['purple', 'pink'])\n",
    "plt.title('HOW CUSTOMER AFFECTS CHURN PREDICTION')\n",
    "plt.show()"
   ]
  },
  {
   "cell_type": "markdown",
   "id": "a0594624",
   "metadata": {},
   "source": [
    "# MONTHLY INCOME VISUALISATION"
   ]
  },
  {
   "cell_type": "code",
   "execution_count": 65,
   "id": "16057771",
   "metadata": {},
   "outputs": [
    {
     "name": "stdout",
     "output_type": "stream",
     "text": [
      "AnnualIncomeClass\n",
      "0    409\n",
      "1    386\n",
      "2    159\n",
      "dtype: int64\n"
     ]
    }
   ],
   "source": [
    "income = df.groupby('AnnualIncomeClass')\n",
    "income = income.size()\n",
    "print(income)"
   ]
  },
  {
   "cell_type": "code",
   "execution_count": 83,
   "id": "2f44fdbb",
   "metadata": {
    "scrolled": true
   },
   "outputs": [
    {
     "data": {
      "image/png": "[encoded data removed]",
      "text/plain": [
       "<Figure size 640x480 with 1 Axes>"
      ]
     },
     "metadata": {},
     "output_type": "display_data"
    }
   ],
   "source": [
    "plt.pie(income.values, labels= ['High Income', 'low Income', 'Middle Income'] , autopct = '%1.1f%%' ,radius=1, \n",
    "        textprops= {\"fontsize\" : 16} )\n",
    "plt.title('How Income Impact Customer Churn', c='b')\n",
    "plt.show()"
   ]
  },
  {
   "cell_type": "markdown",
   "id": "17d3071a",
   "metadata": {},
   "source": [
    "# Analytical Summary"
   ]
  },
  {
   "cell_type": "code",
   "execution_count": null,
   "id": "0539592b",
   "metadata": {},
   "outputs": [],
   "source": [
    "customers who booked hotel are of 60%  of the total population and they must be from 43% of high income group of peope. \n",
    "whereas those who have not made hotel reservations account for 39% of the population, which is a significant number.\n",
    "\n",
    "We found that customers with the highest yearly income have the lowest proportion of customer churn, whereas those with\n",
    "the lowest (40%) and middle (42%), have the highest percentage of churn."
   ]
  },
  {
   "cell_type": "markdown",
   "id": "7c643a53",
   "metadata": {},
   "source": [
    "# Insights"
   ]
  },
  {
   "cell_type": "code",
   "execution_count": null,
   "id": "fc6a8801",
   "metadata": {},
   "outputs": [],
   "source": [
    "The largest customer churn has been observed when a consumer has not made a hotel reservation. \n",
    "This may be due to a number of factors, including expensive hotel rates and longer waiting lists\n",
    "for reservations, both of which have a substantial impact on why people don't book hotels. \n",
    "This may help us understand how to run the campaign in order to shorten the waiting list.\n",
    "\n",
    "The highest customer churn have also seen in the situation where customer have low and middle income.\n",
    "This may give us an idea of the needs of the customers, and you can utilise the insights to work on\n",
    "how to lower your pricing without affecting your revenue, which you can then offer to your customers, \n",
    "which can prevent the customer churn."
   ]
  }
 ],
 "metadata": {
  "kernelspec": {
   "display_name": "Python 3 (ipykernel)",
   "language": "python",
   "name": "python3"
  },
  "language_info": {
   "codemirror_mode": {
    "name": "ipython",
    "version": 3
   },
   "file_extension": ".py",
   "mimetype": "text/x-python",
   "name": "python",
   "nbconvert_exporter": "python",
   "pygments_lexer": "ipython3",
   "version": "3.11.4"
  }
 },
 "nbformat": 4,
 "nbformat_minor": 5
}
